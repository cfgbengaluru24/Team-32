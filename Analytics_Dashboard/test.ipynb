{
 "cells": [
  {
   "cell_type": "markdown",
   "metadata": {},
   "source": [
    "1. ### Dashboard\n",
    "    - Authentication\n",
    "    - Landing Page - Visualizations\n",
    "    - search for location -> Region analytics\n",
    "    - search for patient -> Personal analytics"
   ]
  },
  {
   "cell_type": "markdown",
   "metadata": {},
   "source": [
    "Analytics - \n",
    "Data : \n",
    "    - Inital doctor diagnosis\n",
    "    - Patient Follow Ups\n",
    "    Demographics - Name, Age, Gender\n",
    "    Helath records - Date, Time, Mody mass factors (Weight, Height)\n",
    "    Medical Reports - Date, Time, Report\n",
    "    Images"
   ]
  },
  {
   "cell_type": "code",
   "execution_count": null,
   "metadata": {},
   "outputs": [],
   "source": []
  }
 ],
 "metadata": {
  "kernelspec": {
   "display_name": "Python 3",
   "language": "python",
   "name": "python3"
  },
  "language_info": {
   "codemirror_mode": {
    "name": "ipython",
    "version": 3
   },
   "file_extension": ".py",
   "mimetype": "text/x-python",
   "name": "python",
   "nbconvert_exporter": "python",
   "pygments_lexer": "ipython3",
   "version": "3.10.12"
  }
 },
 "nbformat": 4,
 "nbformat_minor": 2
}
